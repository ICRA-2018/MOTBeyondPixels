{
 "cells": [
  {
   "cell_type": "markdown",
   "metadata": {},
   "source": [
    "# MOTBeyondPixels\n",
    "\n",
    "![Example image](example_image.png)\n",
    "\n",
    "This repository contains code and data required to reproduce the results in the ICRA 2018 paper\n",
    "\n",
    "## Beyond Pixels: Leveraging Geometry and Shape Cues for Online Multi-Object Tracking [(arXiv)](https://arxiv.org/abs/1802.09298)\n",
    "### Sarthak Sharma<sup>\\*</sup>, [Junaid Ahmed Ansari](https://scholar.google.co.in/citations?user=Uc8mKqMAAAAJ&hl=en)<sup>\\*</sup>, [J. Krishna Murthy](https://krrish94.github.io), and [K. Madhava Krishna](http://robotics.iiit.ac.in)\n",
    "> <sup>\\*</sup> The first two authors contributed equally to the work.\n",
    "\n",
    "### [Project Page](https://junaidcs032.github.io/Geometry_ObjectShape_MOT/)\n",
    "> The project page has more qualitative results, and links to data.\n",
    "\n",
    "If you find the code/data useful in your experiments, kindly consider citing"
   ]
  },
  {
   "cell_type": "code",
   "execution_count": null,
   "metadata": {},
   "outputs": [],
   "source": [
    "@inproceedings{BeyondPixels_ICRA2018,\n",
    "  title={Beyond Pixels: Leveraging Geometry and Shape Cues for Online Multi-Object Tracking},\n",
    "  author={Sarthak Sharma, Junaid Ahmed Ansari, J. Krishna Murthy, K. Madhava Krishna},\n",
    "  booktitle = {Procedings of the IEEE International Conference on Robotics and Automation},\n",
    "  year={2018}\n",
    "}"
   ]
  },
  {
   "cell_type": "markdown",
   "metadata": {},
   "source": [
    "## Running the demo scripts\n",
    "\n",
    "We provide demo scripts for running code and visualizing results on sequences from the KITTI Tracking dataset.\n",
    "\n",
    "To run a demo script that shows representative results on short snippets from the train and test splits run"
   ]
  },
  {
   "cell_type": "code",
   "execution_count": null,
   "metadata": {},
   "outputs": [],
   "source": [
    "ln -s /DATASET/ICRA18/MOTBeyondPixels/Data Data"
   ]
  },
  {
   "cell_type": "code",
   "execution_count": null,
   "metadata": {},
   "outputs": [],
   "source": [
    "matlab -nosplash -nodesktop -r \"run('src/main_script_train.m');exit;\""
   ]
  },
  {
   "cell_type": "code",
   "execution_count": null,
   "metadata": {},
   "outputs": [],
   "source": [
    "matlab -nosplash -nodesktop -r \"run('src/main_script_test.m');exit;\""
   ]
  },
  {
   "cell_type": "markdown",
   "metadata": {},
   "source": [
    "> IMPORTANT: You need to have the `Data` folder initialized, before you can run this demo.\n",
    "> See below for details.\n",
    "\n",
    "\n",
    "Before you can run this, however, make sure you download the requisite CNN appearance features and rectified images by running the following script."
   ]
  },
  {
   "cell_type": "code",
   "execution_count": null,
   "metadata": {},
   "outputs": [],
   "source": [
    "sh download_data.sh"
   ]
  },
  {
   "cell_type": "markdown",
   "metadata": {},
   "source": [
    "Or you can download it from [here](https://drive.google.com/open?id=1ZR1qEf2qjQYA9zALLl-ZXuWhqG9lxzsM) and place it (after unzipping it) in the parent directory.\n",
    "\n",
    "## Using our result files\n",
    "\n",
    "To falcilitate comparision, we have also released our results on the KITTI Tracking benchmark (train and test splits). The result files, in the format specified by the evaluation server, can be downloaded from [here](https://drive.google.com/open?id=0B-9NOTtQ3zTQUTJORXlyTEZzR0M4UG1jUmRvS2ZCcE5ZUFI0)\n",
    "\n",
    "> DISCLAIMER: The result files have been released *in good faith*, in the spirit of reproducible research.\n",
    "> No misuse is permitted.\n",
    "\n",
    "## Misc. Remarks\n",
    "\n",
    "We release release object detections obtained (and filtering scripts for non-maxima suppression, along with parameters used) for all train and test sequences. We report results obtained by running [RRC-Net](https://arxiv.org/abs/1704.05776) \\[[code](https://github.com/xiaohaoChen/rrc_detection)\\] on KITTI Tracking data. They can be accessed in the `Data` directory.\n",
    "\n",
    "We also release odometry estimates obtained from ORB-SLAM. Note that, since we used monocular ORB-SLAM, odometry estimates were obtained *to-scale*. To get rid of the scale factor ambiguity, we empirically estimate a scale factor by four-fold cross-validation over the train set. Once this scale factor is estimated, we use the same factor across all train and test sequences in the results reported. These can be found in the `Data` directory too.\n",
    "\n",
    "## Autonomous driving software stacks using our method\n",
    "\n",
    "[AutoWare's](https://autware.ai)(world's first \"all-in-one\" open-source software for self-driving vehicles) image based object tracker is based on our work. [Link](https://github.com/CPFL/Autoware/tree/master/ros/src/computing/perception/detection/vision_tracker/packages/vision_beyond_track)"
   ]
  }
 ],

 "metadata": {
  "kernelspec": {
   "display_name": "Bash",
   "language": "bash",
   "name": "bash"
  },
  "language_info": {
   "codemirror_mode": "shell",
   "file_extension": ".sh",
   "mimetype": "text/x-sh",
   "name": "bash"
  }
 },
 "nbformat": 4,
 "nbformat_minor": 2
}
